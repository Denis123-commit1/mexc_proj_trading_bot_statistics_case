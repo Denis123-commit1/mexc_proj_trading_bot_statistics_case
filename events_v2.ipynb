{
 "cells": [
  {
   "cell_type": "code",
   "execution_count": 1,
   "metadata": {},
   "outputs": [],
   "source": [
    "from pandas import read_sql_query, read_sql_table\n",
    "\n",
    "import pandas as pd\n",
    "# import sqlite3\n",
    "from matplotlib import pyplot as plt\n",
    "import datetime\n",
    "\n",
    "import requests\n",
    "import json"
   ]
  },
  {
   "cell_type": "code",
   "execution_count": 8,
   "metadata": {},
   "outputs": [],
   "source": [
    "import psycopg2, time\n",
    "from datetime import datetime, timedelta, timezone"
   ]
  },
  {
   "cell_type": "code",
   "execution_count": 10,
   "metadata": {},
   "outputs": [],
   "source": [
    "# postgres\n",
    "\n",
    "# 1) Параметры подключения к PostgreSQL\n",
    "DB = {\n",
    "    \"dbname\": \"mexc_statistics_case\",\n",
    "    \"user\": \"postgres\",\n",
    "    \"password\": \"1374fjsney831\",\n",
    "    \"host\": \"localhost\",\n",
    "    \"port\": 5432,\n",
    "}"
   ]
  },
  {
   "cell_type": "code",
   "execution_count": 4,
   "metadata": {},
   "outputs": [],
   "source": [
    "# 2) Вспомогательная функция для подключения\n",
    "def _pg():\n",
    "    conn = psycopg2.connect(**DB)\n",
    "    conn.autocommit = True\n",
    "    return conn\n"
   ]
  },
  {
   "cell_type": "code",
   "execution_count": 5,
   "metadata": {},
   "outputs": [],
   "source": [
    "\n",
    "# 3) Создание таблицы (если ещё нет)\n",
    "def init_table() -> None:\n",
    "    ddl = \"\"\"\n",
    "    CREATE TABLE IF NOT EXISTS pump_event_stats (\n",
    "        id            SERIAL PRIMARY KEY,\n",
    "        coin_symbol   TEXT NOT NULL REFERENCES coins(coin) ON DELETE CASCADE,\n",
    "        pump_start_ts BIGINT NOT NULL,\n",
    "        pump_end_ts   BIGINT,\n",
    "        duration_sec  INTEGER,\n",
    "        diff_percent  NUMERIC(8,3),\n",
    "        bucket        VARCHAR(20),\n",
    "        is_profit     BOOLEAN,\n",
    "        UNIQUE (coin_symbol, pump_start_ts)\n",
    "    );\"\"\"\n",
    "    with _pg() as conn, conn.cursor() as cur:\n",
    "        cur.execute(ddl)\n"
   ]
  },
  {
   "cell_type": "code",
   "execution_count": 6,
   "metadata": {},
   "outputs": [],
   "source": [
    "# 4) Вставка/обновление одной записи пампа\n",
    "def upsert_stat(symbol: str,\n",
    "                ts_start: int,\n",
    "                ts_end: int | None,\n",
    "                diff_pct: float | None,\n",
    "                bucket: str,\n",
    "                is_profit: bool | None) -> None:\n",
    "    duration = ts_end - ts_start if ts_end else None\n",
    "    sql = \"\"\"\n",
    "    INSERT INTO pump_event_stats\n",
    "          (coin_symbol, pump_start_ts, pump_end_ts,\n",
    "           duration_sec, diff_percent, bucket, is_profit)\n",
    "    VALUES (%s,%s,%s,%s,%s,%s,%s)\n",
    "    ON CONFLICT (coin_symbol, pump_start_ts)\n",
    "        DO UPDATE SET\n",
    "            pump_end_ts   = EXCLUDED.pump_end_ts,\n",
    "            duration_sec  = EXCLUDED.duration_sec,\n",
    "            diff_percent  = EXCLUDED.diff_percent,\n",
    "            bucket        = EXCLUDED.bucket,\n",
    "            is_profit     = EXCLUDED.is_profit;\"\"\"\n",
    "    with _pg() as conn, conn.cursor() as cur:\n",
    "        cur.execute(sql, (symbol, ts_start, ts_end, duration,\n",
    "                          diff_pct, bucket, is_profit))\n"
   ]
  },
  {
   "cell_type": "code",
   "execution_count": 7,
   "metadata": {},
   "outputs": [],
   "source": [
    "# 5) Агрегированная статистика за последние 72 часа\n",
    "def stats_last72h(symbol: str) -> dict:\n",
    "    t0 = int((datetime.now(timezone.utc) - timedelta(days=3)).timestamp())\n",
    "    sql = \"\"\"\n",
    "    WITH s AS (\n",
    "        SELECT * FROM pump_event_stats\n",
    "        WHERE coin_symbol=%s AND pump_start_ts >= %s\n",
    "    )\n",
    "    SELECT\n",
    "        SUM((bucket='fifteen_minutes')::int) AS fifteen,\n",
    "        SUM((bucket='three_hours')::int)     AS three_h,\n",
    "        SUM((bucket='one_day')::int)         AS one_d,\n",
    "        SUM((bucket='more_one_day')::int)    AS more_d,\n",
    "        SUM((bucket='in_deal')::int)         AS in_deal,\n",
    "        COUNT(*)                             AS total,\n",
    "        SUM((is_profit IS TRUE)::int)        AS wins,\n",
    "        SUM((is_profit IS FALSE)::int)       AS losses,\n",
    "        ROUND(COALESCE(SUM(diff_percent)\n",
    "              FILTER (WHERE is_profit),0),2) AS sum_profit_pct,\n",
    "        ROUND(COALESCE(SUM(diff_percent)\n",
    "              FILTER (WHERE is_profit IS FALSE),0),2) AS sum_loss_pct\n",
    "    FROM s;\"\"\"\n",
    "    with _pg() as conn, conn.cursor() as cur:\n",
    "        cur.execute(sql, (symbol, t0))\n",
    "        return dict(zip([d.name for d in cur.description], cur.fetchone()))\n"
   ]
  },
  {
   "cell_type": "code",
   "execution_count": 11,
   "metadata": {},
   "outputs": [
    {
     "name": "stdout",
     "output_type": "stream",
     "text": [
      "Таблица готова!\n"
     ]
    }
   ],
   "source": [
    "## Шаг 1 — создать таблицу `pump_event_stats`\n",
    "init_table()\n",
    "print('Таблица готова!')\n"
   ]
  },
  {
   "cell_type": "code",
   "execution_count": 12,
   "metadata": {},
   "outputs": [
    {
     "name": "stdout",
     "output_type": "stream",
     "text": [
      "✅ Запись добавлена!\n"
     ]
    }
   ],
   "source": [
    "## Шаг 2 — зафиксировать тестовый памп‑ивент\n",
    "ts_now = int(time.time())\n",
    "ts_start = ts_now - 15 * 60  # 15 минут назад\n",
    "upsert_stat(\n",
    "    symbol=\"ALPACA_USDT\",\n",
    "    ts_start=ts_start,\n",
    "    ts_end=ts_now,\n",
    "    diff_pct=8.3,\n",
    "    bucket=\"fifteen_minutes\",\n",
    "    is_profit=True\n",
    ")\n",
    "print('✅ Запись добавлена!')\n"
   ]
  },
  {
   "cell_type": "code",
   "execution_count": 13,
   "metadata": {},
   "outputs": [
    {
     "name": "stdout",
     "output_type": "stream",
     "text": [
      "{'id': 437, 'coin_symbol': 'ALPACA_USDT', 'pump_start_ts': 1746520054, 'pump_end_ts': 1746520954, 'duration_sec': 900, 'diff_percent': Decimal('8.300'), 'bucket': 'fifteen_minutes', 'is_profit': True, 'created_at': datetime.datetime(2025, 5, 6, 11, 42, 34, 498920, tzinfo=datetime.timezone(datetime.timedelta(seconds=10800)))}\n"
     ]
    }
   ],
   "source": [
    "# Шаг 2‑bis — проверить, что запись появилась\n",
    "with _pg() as conn, conn.cursor() as cur:\n",
    "    cur.execute(\"\"\"\n",
    "        SELECT *\n",
    "        FROM pump_event_stats\n",
    "        WHERE coin_symbol = 'ALPACA_USDT'\n",
    "        ORDER BY id DESC\n",
    "        LIMIT 5\n",
    "    \"\"\")\n",
    "    cols = [d[0] for d in cur.description]\n",
    "    for row in cur.fetchall():\n",
    "        print(dict(zip(cols, row)))"
   ]
  },
  {
   "cell_type": "code",
   "execution_count": null,
   "metadata": {},
   "outputs": [],
   "source": [
    "## Шаг 3 — посмотреть агрегированную статистику за 72 ч\n",
    "s = stats_last72h(\"ALPACA_USDT\")\n",
    "for k, v in s.items():\n",
    "    print(f\"{k:15} → {v}\")"
   ]
  }
 ],
 "metadata": {
  "kernelspec": {
   "display_name": "mexc_bot",
   "language": "python",
   "name": "python3"
  },
  "language_info": {
   "codemirror_mode": {
    "name": "ipython",
    "version": 3
   },
   "file_extension": ".py",
   "mimetype": "text/x-python",
   "name": "python",
   "nbconvert_exporter": "python",
   "pygments_lexer": "ipython3",
   "version": "3.10.12"
  }
 },
 "nbformat": 4,
 "nbformat_minor": 2
}
