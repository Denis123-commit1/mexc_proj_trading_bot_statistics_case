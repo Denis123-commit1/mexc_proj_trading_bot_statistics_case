{
 "cells": [
  {
   "cell_type": "code",
   "execution_count": 61,
   "metadata": {},
   "outputs": [],
   "source": [
    "# Pump‑stats API workflow  ────────────────────────────────────────────────\n",
    "# 1. очистка таблицы `pump_event_stats`\n",
    "# 2. получение последних свечей от API\n",
    "# 3. фиксация новых памп‑ивентов в БД\n",
    "# 4. просмотр записей и сводной статистики\n",
    "#\n",
    "# Все функции определены прямо здесь: ничего импортировать не нужно\n",
    "import time, requests, psycopg2, logging\n",
    "from datetime import datetime, timedelta, timezone\n",
    "from typing import Optional, Tuple, Dict, List, Callable\n"
   ]
  },
  {
   "cell_type": "code",
   "execution_count": 105,
   "metadata": {},
   "outputs": [],
   "source": [
    "\n",
    "# ————————————————————————————————————————————————\n",
    "# 1) Логирование\n",
    "logging.basicConfig(\n",
    "    level=logging.INFO,\n",
    "    format='[%(asctime)s] %(levelname)s: %(message)s',\n",
    "    datefmt='%H:%M:%S',\n",
    ")\n",
    "logger = logging.getLogger(__name__)\n",
    "\n",
    "# ————————————————————————————————————————————————\n",
    "# 2) Параметры подключения к Postgres\n",
    "DB: Dict[str, str | int] = dict(\n",
    "    dbname='mexc_statistics_case',\n",
    "    user='postgres',\n",
    "    password='1374fjsney831',\n",
    "    host='localhost',\n",
    "    port=5432,\n",
    ")\n",
    "SYMBOL: str   = 'ALPACA_USDT'\n",
    "PUMP_THR: float = 1.001        # +7 % к цене 3 ч назад\n",
    "CHECK_INTSEC   = 10           # опрос каждую минуту\n"
   ]
  },
  {
   "cell_type": "code",
   "execution_count": 106,
   "metadata": {},
   "outputs": [],
   "source": [
    "\n",
    "# ———————————————————————————————————————————————— DB helpers\n",
    "def _pg():\n",
    "    conn = psycopg2.connect(**DB)\n",
    "    conn.autocommit = True\n",
    "    return conn\n",
    "\n",
    "def init_table() -> None:\n",
    "    ddl = \"\"\"\n",
    "    CREATE TABLE IF NOT EXISTS pump_event_stats (\n",
    "        id            SERIAL PRIMARY KEY,\n",
    "        coin_symbol   TEXT NOT NULL REFERENCES coins(coin) ON DELETE CASCADE,\n",
    "        pump_start_ts BIGINT NOT NULL,\n",
    "        pump_end_ts   BIGINT,\n",
    "        duration_sec  INTEGER,\n",
    "        diff_percent  NUMERIC(8,3),\n",
    "        bucket        VARCHAR(20),\n",
    "        is_profit     BOOLEAN,\n",
    "        UNIQUE (coin_symbol, pump_start_ts)\n",
    "    );\"\"\"\n",
    "    with _pg() as conn, conn.cursor() as cur:\n",
    "        cur.execute(ddl)\n",
    "\n",
    "def clear_table(symbol: str) -> None:\n",
    "    with _pg() as conn, conn.cursor() as cur:\n",
    "        cur.execute('DELETE FROM pump_event_stats WHERE coin_symbol=%s', (symbol,))\n",
    "\n",
    "def upsert_stat(symbol: str, ts_start: int, ts_end: Optional[int],\n",
    "                diff_pct: Optional[float], bucket: str, is_profit: Optional[bool]) -> None:\n",
    "    duration = ts_end - ts_start if ts_end else None\n",
    "    sql = \"\"\"\n",
    "    INSERT INTO pump_event_stats\n",
    "          (coin_symbol, pump_start_ts, pump_end_ts,\n",
    "           duration_sec, diff_percent, bucket, is_profit)\n",
    "    VALUES (%s,%s,%s,%s,%s,%s,%s)\n",
    "    ON CONFLICT (coin_symbol, pump_start_ts)\n",
    "        DO UPDATE SET\n",
    "            pump_end_ts   = EXCLUDED.pump_end_ts,\n",
    "            duration_sec  = EXCLUDED.duration_sec,\n",
    "            diff_percent  = EXCLUDED.diff_percent,\n",
    "            bucket        = EXCLUDED.bucket,\n",
    "            is_profit     = EXCLUDED.is_profit;\"\"\"\n",
    "    with _pg() as conn, conn.cursor() as cur:\n",
    "        cur.execute(sql, (symbol, ts_start, ts_end, duration,\n",
    "                          diff_pct, bucket, is_profit))\n",
    "\n",
    "def stats_last72h(symbol: str) -> Dict[str, int | float]:\n",
    "    t0 = int((datetime.now(timezone.utc) - timedelta(days=3)).timestamp())\n",
    "    sql = \"\"\"\n",
    "    WITH s AS (\n",
    "        SELECT * FROM pump_event_stats\n",
    "        WHERE coin_symbol=%s AND pump_start_ts >= %s\n",
    "    )\n",
    "    SELECT\n",
    "        SUM((bucket='fifteen_minutes')::int) AS fifteen,\n",
    "        SUM((bucket='three_hours')::int)     AS three_h,\n",
    "        SUM((bucket='one_day')::int)         AS one_d,\n",
    "        SUM((bucket='more_one_day')::int)    AS more_d,\n",
    "        SUM((bucket='in_deal')::int)         AS in_deal,\n",
    "        COUNT(*)                             AS total,\n",
    "        SUM((is_profit IS TRUE)::int)        AS wins,\n",
    "        SUM((is_profit IS FALSE)::int)       AS losses,\n",
    "        ROUND(COALESCE(SUM(diff_percent)\n",
    "              FILTER (WHERE is_profit),0),2) AS sum_profit_pct,\n",
    "        ROUND(COALESCE(SUM(diff_percent)\n",
    "              FILTER (WHERE is_profit IS FALSE),0),2) AS sum_loss_pct\n",
    "    FROM s;\"\"\"\n",
    "    with _pg() as conn, conn.cursor() as cur:\n",
    "        cur.execute(sql, (symbol, t0))\n",
    "        return dict(zip([d.name for d in cur.description], cur.fetchone()))\n"
   ]
  },
  {
   "cell_type": "code",
   "execution_count": 107,
   "metadata": {},
   "outputs": [],
   "source": [
    "\n",
    "# ———————————————————————————————————————————————— API helpers\n",
    "def last_candle(symbol: str,\n",
    "                session: Callable[..., requests.Response] = requests.get,\n",
    "                interval: str = 'Min1') -> Optional[Tuple[int, float]]:\n",
    "    url = f'https://contract.mexc.com/api/v1/contract/kline/{symbol}'\n",
    "    params = {'interval': interval}\n",
    "    try:\n",
    "        r = session(url, params=params, timeout=10)\n",
    "        r.raise_for_status()\n",
    "        j = r.json()\n",
    "        if not j.get('success', True):\n",
    "            logger.warning('MEXC error: %s', j.get('msg', j.get('code')))\n",
    "            return None\n",
    "        data = j.get('data', [])\n",
    "        if not data:\n",
    "            logger.warning('empty candles list')\n",
    "            return None\n",
    "\n",
    "        if isinstance(data, list):\n",
    "            ts_sec  = int(data[-1][0]) // 1000\n",
    "            price_o = float(data[-1][1])\n",
    "        else:                                         # dict\n",
    "            ts_sec  = int(data['time'][-1]) // 1000\n",
    "            price_o = float(data['open'][-1])\n",
    "\n",
    "        return ts_sec, price_o\n",
    "\n",
    "    except Exception as exc:\n",
    "        logger.warning('network/json error: %s', exc)\n",
    "        return None\n",
    "\n"
   ]
  },
  {
   "cell_type": "code",
   "execution_count": 108,
   "metadata": {},
   "outputs": [],
   "source": [
    "def history_last_hours(symbol: str, hours: int = 3,\n",
    "                       session=requests.get) -> List[Tuple[int, float]]:\n",
    "    \"\"\"Вернёт [(ts_sec, open_price)] за N часов (Min1).\"\"\"\n",
    "    url = f'https://contract.mexc.com/api/v1/contract/kline/{symbol}'\n",
    "    params = {\n",
    "        'interval': 'Min1',\n",
    "        'start'   : int(time.time()*1000) - hours*3600*1000,\n",
    "    }\n",
    "    r = session(url, params=params, timeout=10)\n",
    "    r.raise_for_status()\n",
    "    data = r.json()['data']\n",
    "\n",
    "    result: list[tuple[int, float]] = []\n",
    "\n",
    "    if isinstance(data, list):                          # формат: [[ts_ms, open, ...], ...]\n",
    "        for row in data:\n",
    "            ts_sec = int(row[0]) // 1000\n",
    "            price  = float(row[1])\n",
    "            result.append((ts_sec, price))\n",
    "\n",
    "    elif isinstance(data, dict):                        # формат: {'time': [...], 'open': [...] }\n",
    "        for ts_ms, op in zip(data['time'], data['open']):\n",
    "            ts_sec = int(ts_ms) // 1000\n",
    "            price  = float(op)\n",
    "            result.append((ts_sec, price))\n",
    "\n",
    "    else:\n",
    "        logger.warning('unexpected kline format: %s', type(data))\n",
    "\n",
    "    return result\n"
   ]
  },
  {
   "cell_type": "code",
   "execution_count": 109,
   "metadata": {},
   "outputs": [
    {
     "name": "stdout",
     "output_type": "stream",
     "text": [
      "Функции и класс PumpWatcher готовы!\n"
     ]
    }
   ],
   "source": [
    "\n",
    "# ———————————————————————————————————————————————— PumpWatcher\n",
    "class PumpWatcher:\n",
    "    \"\"\"Detect pump starts/ends and log to DB (stateless external).\"\"\"\n",
    "\n",
    "    def __init__(self, symbol: str,\n",
    "                 pump_thr: float = PUMP_THR,\n",
    "                 api_fn: Callable[[str], Optional[Tuple[int, float]]] = last_candle):\n",
    "        self.symbol = symbol\n",
    "        self.pump_thr = pump_thr\n",
    "        self.api_fn = api_fn\n",
    "        # FIX №2: сразу загружаем 3‑часовую историю\n",
    "        self.history: List[Tuple[int, float]] = history_last_hours(symbol)\n",
    "        self.open_pumps: Dict[int, float] = {}\n",
    "\n",
    "    # ───────── helpers ─────────\n",
    "    @staticmethod\n",
    "    def _bucket(age: int) -> str:\n",
    "        if age < 900:\n",
    "            return 'fifteen_minutes'\n",
    "        if age < 3 * 3600:\n",
    "            return 'three_hours'\n",
    "        if age < 24 * 3600:\n",
    "            return 'one_day'\n",
    "        return 'more_one_day'\n",
    "\n",
    "    # ───────── main step ─────────\n",
    "    def step(self) -> None:\n",
    "        candle = self.api_fn(self.symbol)\n",
    "        if candle is None:\n",
    "            return\n",
    "        ts, price = candle\n",
    "        self.history.append((ts, price))\n",
    "\n",
    "        # 1) open pump?\n",
    "        ts_3h = ts - 3 * 3600\n",
    "        base_price = next((p for (t, p) in reversed(self.history) if t <= ts_3h), None)\n",
    "        if base_price and price >= base_price * self.pump_thr:\n",
    "            if ts not in self.open_pumps:\n",
    "                self.open_pumps[ts] = price\n",
    "                logger.info('🚀 START %s price=%.4f', datetime.utcfromtimestamp(ts), price)\n",
    "                upsert_stat(self.symbol, ts, None, None, 'in_deal', None)\n",
    "\n",
    "        # 2) close pumps?\n",
    "        to_close = []\n",
    "        for ts_start, p_start in self.open_pumps.items():\n",
    "            age = ts - ts_start\n",
    "            if price <= p_start * 0.93:  # profit\n",
    "                bucket = self._bucket(age)\n",
    "                diff = round((price - p_start) / p_start * 100, 3)\n",
    "                upsert_stat(self.symbol, ts_start, ts, diff, bucket, True)\n",
    "                logger.info('✅ PROFIT close %dm diff=%s%%', age // 60, diff)\n",
    "                to_close.append(ts_start)\n",
    "            elif age > 24 * 3600:        # loss (time)\n",
    "                diff = round((price - p_start) / p_start * 100, 3)\n",
    "                upsert_stat(self.symbol, ts_start, ts, diff, 'more_one_day', False)\n",
    "                logger.info('❌ LOSS close >24h diff=%s%%', diff)\n",
    "                to_close.append(ts_start)\n",
    "        for t in to_close:\n",
    "            del self.open_pumps[t]\n",
    "\n",
    "print('Функции и класс PumpWatcher готовы!')\n"
   ]
  },
  {
   "cell_type": "code",
   "execution_count": 110,
   "metadata": {},
   "outputs": [
    {
     "name": "stdout",
     "output_type": "stream",
     "text": [
      "Таблица 'pump_event_stats' очищена для ALPACA_USDT ✨\n"
     ]
    }
   ],
   "source": [
    "\n",
    "# ───────────────────────────────────────────────────────────────────────────\n",
    "# Шаг 1 — подготовить базу\n",
    "init_table()\n",
    "clear_table(SYMBOL)\n",
    "print(f\"Таблица 'pump_event_stats' очищена для {SYMBOL} ✨\")\n"
   ]
  },
  {
   "cell_type": "code",
   "execution_count": 111,
   "metadata": {},
   "outputs": [],
   "source": [
    "\n",
    "# ───────────────────────────────────────────────────────────────────────────\n",
    "# Шаг 2 — один ручной step\n",
    "watcher = PumpWatcher(SYMBOL)\n",
    "watcher.step()\n"
   ]
  },
  {
   "cell_type": "code",
   "execution_count": 112,
   "metadata": {},
   "outputs": [
    {
     "name": "stderr",
     "output_type": "stream",
     "text": [
      "/tmp/ipykernel_1622/3540703855.py:4: UserWarning: pandas only supports SQLAlchemy connectable (engine/connection) or database string URI or sqlite3 DBAPI2 connection. Other DBAPI2 objects are not tested. Please consider using SQLAlchemy.\n",
      "  df = pd.read_sql_query(\n"
     ]
    },
    {
     "data": {
      "text/html": [
       "<div>\n",
       "<style scoped>\n",
       "    .dataframe tbody tr th:only-of-type {\n",
       "        vertical-align: middle;\n",
       "    }\n",
       "\n",
       "    .dataframe tbody tr th {\n",
       "        vertical-align: top;\n",
       "    }\n",
       "\n",
       "    .dataframe thead th {\n",
       "        text-align: right;\n",
       "    }\n",
       "</style>\n",
       "<table border=\"1\" class=\"dataframe\">\n",
       "  <thead>\n",
       "    <tr style=\"text-align: right;\">\n",
       "      <th></th>\n",
       "      <th>id</th>\n",
       "      <th>start_utc</th>\n",
       "      <th>bucket</th>\n",
       "      <th>diff_percent</th>\n",
       "      <th>is_profit</th>\n",
       "    </tr>\n",
       "  </thead>\n",
       "  <tbody>\n",
       "  </tbody>\n",
       "</table>\n",
       "</div>"
      ],
      "text/plain": [
       "Empty DataFrame\n",
       "Columns: [id, start_utc, bucket, diff_percent, is_profit]\n",
       "Index: []"
      ]
     },
     "metadata": {},
     "output_type": "display_data"
    }
   ],
   "source": [
    "\n",
    "# ───────────────────────────────────────────────────────────────────────────\n",
    "# Шаг 3 — последние записи в БД\n",
    "import pandas as pd\n",
    "df = pd.read_sql_query(\n",
    "    '''\n",
    "    SELECT id, to_timestamp(pump_start_ts) AS start_utc,\n",
    "           bucket, diff_percent, is_profit\n",
    "    FROM pump_event_stats\n",
    "    WHERE coin_symbol=%s\n",
    "    ORDER BY id DESC\n",
    "    LIMIT 10\n",
    "    ''', _pg(), params=(SYMBOL,)\n",
    ")\n",
    "display(df)\n"
   ]
  },
  {
   "cell_type": "code",
   "execution_count": 113,
   "metadata": {},
   "outputs": [
    {
     "name": "stdout",
     "output_type": "stream",
     "text": [
      "fifteen         → None\n",
      "three_h         → None\n",
      "one_d           → None\n",
      "more_d          → None\n",
      "in_deal         → None\n",
      "total           → 0\n",
      "wins            → None\n",
      "losses          → None\n",
      "sum_profit_pct  → 0.00\n",
      "sum_loss_pct    → 0.00\n"
     ]
    }
   ],
   "source": [
    "\n",
    "# ───────────────────────────────────────────────────────────────────────────\n",
    "# Шаг 4 — статистика за 72 ч\n",
    "for k, v in stats_last72h(SYMBOL).items():\n",
    "    print(f'{k:15} → {v}')\n"
   ]
  },
  {
   "cell_type": "code",
   "execution_count": 114,
   "metadata": {},
   "outputs": [
    {
     "name": "stdout",
     "output_type": "stream",
     "text": [
      "⏹️  Остановлено пользователем\n"
     ]
    }
   ],
   "source": [
    "\n",
    "# ───────────────────────────────────────────────────────────────────────────\n",
    "# Шаг 5 — непрерывный мониторинг (остановить ⏹️)\n",
    "import itertools\n",
    "try:\n",
    "    for _ in itertools.count():\n",
    "        watcher.step()\n",
    "        time.sleep(CHECK_INTSEC)\n",
    "except KeyboardInterrupt:\n",
    "    print('⏹️  Остановлено пользователем')\n"
   ]
  },
  {
   "cell_type": "code",
   "execution_count": 115,
   "metadata": {},
   "outputs": [
    {
     "name": "stderr",
     "output_type": "stream",
     "text": [
      "/tmp/ipykernel_1622/1741641148.py:2: UserWarning: pandas only supports SQLAlchemy connectable (engine/connection) or database string URI or sqlite3 DBAPI2 connection. Other DBAPI2 objects are not tested. Please consider using SQLAlchemy.\n",
      "  pd.read_sql_query(\n"
     ]
    },
    {
     "data": {
      "text/html": [
       "<div>\n",
       "<style scoped>\n",
       "    .dataframe tbody tr th:only-of-type {\n",
       "        vertical-align: middle;\n",
       "    }\n",
       "\n",
       "    .dataframe tbody tr th {\n",
       "        vertical-align: top;\n",
       "    }\n",
       "\n",
       "    .dataframe thead th {\n",
       "        text-align: right;\n",
       "    }\n",
       "</style>\n",
       "<table border=\"1\" class=\"dataframe\">\n",
       "  <thead>\n",
       "    <tr style=\"text-align: right;\">\n",
       "      <th></th>\n",
       "      <th>id</th>\n",
       "      <th>start_utc</th>\n",
       "      <th>bucket</th>\n",
       "    </tr>\n",
       "  </thead>\n",
       "  <tbody>\n",
       "  </tbody>\n",
       "</table>\n",
       "</div>"
      ],
      "text/plain": [
       "Empty DataFrame\n",
       "Columns: [id, start_utc, bucket]\n",
       "Index: []"
      ]
     },
     "execution_count": 115,
     "metadata": {},
     "output_type": "execute_result"
    }
   ],
   "source": [
    "import pandas as pd\n",
    "pd.read_sql_query(\n",
    "    \"SELECT id, to_timestamp(pump_start_ts) AS start_utc, bucket \"\n",
    "    \"FROM pump_event_stats WHERE coin_symbol=%s ORDER BY id DESC LIMIT 5\",\n",
    "    _pg(), params=(SYMBOL,)\n",
    ")"
   ]
  },
  {
   "cell_type": "code",
   "execution_count": null,
   "metadata": {},
   "outputs": [],
   "source": []
  },
  {
   "cell_type": "code",
   "execution_count": null,
   "metadata": {},
   "outputs": [],
   "source": []
  }
 ],
 "metadata": {
  "kernelspec": {
   "display_name": "mexc_bot",
   "language": "python",
   "name": "python3"
  },
  "language_info": {
   "codemirror_mode": {
    "name": "ipython",
    "version": 3
   },
   "file_extension": ".py",
   "mimetype": "text/x-python",
   "name": "python",
   "nbconvert_exporter": "python",
   "pygments_lexer": "ipython3",
   "version": "3.10.12"
  }
 },
 "nbformat": 4,
 "nbformat_minor": 2
}
